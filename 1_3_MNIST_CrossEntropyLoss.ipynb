{
  "nbformat": 4,
  "nbformat_minor": 0,
  "metadata": {
    "colab": {
      "provenance": [],
      "gpuType": "T4",
      "include_colab_link": true
    },
    "kernelspec": {
      "name": "python3",
      "display_name": "Python 3"
    },
    "language_info": {
      "name": "python"
    },
    "accelerator": "GPU"
  },
  "cells": [
    {
      "cell_type": "markdown",
      "metadata": {
        "id": "view-in-github",
        "colab_type": "text"
      },
      "source": [
        "<a href=\"https://colab.research.google.com/github/Vacayy/mlp-mnist/blob/main/1_3_MNIST_CrossEntropyLoss.ipynb\" target=\"_parent\"><img src=\"https://colab.research.google.com/assets/colab-badge.svg\" alt=\"Open In Colab\"/></a>"
      ]
    },
    {
      "cell_type": "markdown",
      "source": [
        "# MNIST 실습 (김주영)"
      ],
      "metadata": {
        "id": "OPJenlrhihrh"
      }
    },
    {
      "cell_type": "markdown",
      "source": [
        "## [MY CODE] 데이터 준비\n",
        "1. Trainset, Testset 로드\n",
        "2. Trainset, Testset 각각에 대하여 Dataloader 생성"
      ],
      "metadata": {
        "id": "0rDmP7KyqFqt"
      }
    },
    {
      "cell_type": "code",
      "execution_count": 15,
      "metadata": {
        "id": "6lXVfXoDtoQh",
        "collapsed": true
      },
      "outputs": [],
      "source": [
        "# import\n",
        "import torch\n",
        "import torchvision\n",
        "import torchvision.transforms as transforms\n",
        "import numpy as np\n",
        "from torch import nn\n",
        "from torch.optim import SGD\n",
        "from matplotlib import pyplot as plt\n",
        "\n",
        "# Trainset, Testset 로드\n",
        "transform = transforms.ToTensor()\n",
        "\n",
        "trainset = torchvision.datasets.MNIST(\n",
        "    root='./data',\n",
        "    train=True,\n",
        "    download=True,\n",
        "    transform=transform\n",
        ")\n",
        "\n",
        "testset = torchvision.datasets.MNIST(\n",
        "    root='./data',\n",
        "    train=False,\n",
        "    download=True,\n",
        "    transform=transform\n",
        ")\n",
        "\n",
        "# DataLoader 생성\n",
        "batch_size = 256\n",
        "\n",
        "trainloader = torch.utils.data.DataLoader(\n",
        "    trainset,\n",
        "    batch_size=batch_size,\n",
        "    shuffle=True\n",
        ")\n",
        "\n",
        "testloader = torch.utils.data.DataLoader(\n",
        "    testset,\n",
        "    batch_size=batch_size,\n",
        "    shuffle=False\n",
        ")"
      ]
    },
    {
      "cell_type": "markdown",
      "source": [
        "## [MY CODE] 모델 정의"
      ],
      "metadata": {
        "id": "pF-1zQvmiult"
      }
    },
    {
      "cell_type": "code",
      "source": [
        "class Model(nn.Module):\n",
        "  def __init__(self, input_dim, n_dim):\n",
        "    super().__init__()\n",
        "\n",
        "    self.layer1 = nn.Linear(input_dim, n_dim)\n",
        "    self.layer2 = nn.Linear(n_dim, n_dim)\n",
        "    self.layer3 = nn.Linear(n_dim, 10) # Output Dimension을 Class 개수(10)로 설정\n",
        "\n",
        "    self.act = nn.ReLU()\n",
        "\n",
        "  def forward(self, x):\n",
        "    x = torch.flatten(x, start_dim=1)\n",
        "    x = self.act(self.layer1(x))\n",
        "    x = self.act(self.layer2(x))\n",
        "    x = self.layer3(x) # nn.CrossEntropyLoss 는 logits를 input으로 받기 때문에, 마지막 레이어는 activation 미적용\n",
        "\n",
        "    return x"
      ],
      "metadata": {
        "id": "OLOA-ZGTuVVG"
      },
      "execution_count": 16,
      "outputs": []
    },
    {
      "cell_type": "markdown",
      "source": [
        "## [MY CODE] Model, Optimizer getter 함수"
      ],
      "metadata": {
        "id": "tag1rNcwmnAr"
      }
    },
    {
      "cell_type": "code",
      "source": [
        "def get_model(input_dim, n_dim):\n",
        "  model = Model(input_dim, n_dim).to('cuda')\n",
        "  return model\n",
        "\n",
        "def get_optimizer(model, lr):\n",
        "  optimizer = SGD(model.parameters(), lr=lr)\n",
        "  return optimizer"
      ],
      "metadata": {
        "id": "ypS0TcOlvBhZ"
      },
      "execution_count": 17,
      "outputs": []
    },
    {
      "cell_type": "markdown",
      "source": [
        "## [MY CODE] Accuracy 함수"
      ],
      "metadata": {
        "id": "5PooeOKMnRfZ"
      }
    },
    {
      "cell_type": "code",
      "source": [
        "def accuracy(model, dataloader):\n",
        "  cnt = 0\n",
        "  acc = 0\n",
        "\n",
        "  with torch.no_grad():\n",
        "    for data in dataloader:\n",
        "      inputs, labels = data\n",
        "      inputs, labels = inputs.to('cuda'), labels.to('cuda')\n",
        "\n",
        "      preds = model(inputs)\n",
        "      preds = torch.argmax(preds, dim=-1)\n",
        "\n",
        "      cnt += labels.shape[0]\n",
        "      acc += (labels == preds).sum().item()\n",
        "\n",
        "  return acc / cnt"
      ],
      "metadata": {
        "id": "kzaTrErmnJzh"
      },
      "execution_count": 18,
      "outputs": []
    },
    {
      "cell_type": "markdown",
      "source": [
        "## [MY CODE] 모델 훈련 함수"
      ],
      "metadata": {
        "id": "DgSHFPCrnkIC"
      }
    },
    {
      "cell_type": "code",
      "source": [
        "def train_model(model, trainloader, testloader, optimizer, loss_function, n_epochs=100):\n",
        "    train_accuracies = []\n",
        "    test_accuracies = []\n",
        "\n",
        "    for epoch in range(n_epochs):\n",
        "        total_loss = 0.\n",
        "\n",
        "        for data in trainloader:\n",
        "            model.zero_grad()\n",
        "            inputs, labels = data\n",
        "            inputs, labels = inputs.to('cuda'), labels.to('cuda')\n",
        "\n",
        "            preds = model(inputs)\n",
        "            loss = loss_function(preds, labels)  # Cross entropy loss\n",
        "            loss.backward()\n",
        "            optimizer.step()\n",
        "\n",
        "            total_loss += loss.item()\n",
        "\n",
        "        # 정확도 계산\n",
        "        train_accuracy = accuracy(model, trainloader)\n",
        "        test_accuracy = accuracy(model, testloader)\n",
        "\n",
        "        train_accuracies.append(train_accuracy)\n",
        "        test_accuracies.append(test_accuracy)\n",
        "\n",
        "        print(f\"Epoch {epoch+1:3d} | Loss: {total_loss:.4f} | Train Accuracy: {train_accuracy:.4f} | Test Accuracy: {test_accuracy:.4f}\")\n",
        "\n",
        "    return train_accuracies, test_accuracies"
      ],
      "metadata": {
        "id": "TryX1hewvNiB"
      },
      "execution_count": 19,
      "outputs": []
    },
    {
      "cell_type": "markdown",
      "source": [
        "## [MY CODE] 훈련 실행"
      ],
      "metadata": {
        "id": "dNIs5GkU2AyT"
      }
    },
    {
      "cell_type": "code",
      "source": [
        "model = get_model(28 * 28 * 1, 1024) # Model 인스턴스 새로 생성\n",
        "optimizer = get_optimizer(model, 0.001) # Learning rate 0.001 로 optimizer 생성\n",
        "cross_entropy_loss = nn.CrossEntropyLoss() # 손실함수 정의 (CrossEntropyLoss)\n",
        "\n",
        "train_accuracies, test_accuracies = train_model(model, trainloader, testloader, optimizer, cross_entropy_loss) # 학습 실행"
      ],
      "metadata": {
        "colab": {
          "base_uri": "https://localhost:8080/"
        },
        "id": "Tbi0-OJJ2Bnh",
        "outputId": "a6227e79-2d01-43e1-a9b4-796648418a41"
      },
      "execution_count": 20,
      "outputs": [
        {
          "output_type": "stream",
          "name": "stdout",
          "text": [
            "Epoch   1 | Loss: 539.0347 | Train Accuracy: 0.1399 | Test Accuracy: 0.1382\n",
            "Epoch   2 | Loss: 535.2286 | Train Accuracy: 0.2337 | Test Accuracy: 0.2376\n",
            "Epoch   3 | Loss: 531.3393 | Train Accuracy: 0.3577 | Test Accuracy: 0.3664\n",
            "Epoch   4 | Loss: 527.2436 | Train Accuracy: 0.4878 | Test Accuracy: 0.5017\n",
            "Epoch   5 | Loss: 522.8081 | Train Accuracy: 0.5697 | Test Accuracy: 0.5773\n",
            "Epoch   6 | Loss: 517.9031 | Train Accuracy: 0.6201 | Test Accuracy: 0.6299\n",
            "Epoch   7 | Loss: 512.4038 | Train Accuracy: 0.6515 | Test Accuracy: 0.6594\n",
            "Epoch   8 | Loss: 506.1293 | Train Accuracy: 0.6693 | Test Accuracy: 0.6775\n",
            "Epoch   9 | Loss: 498.9720 | Train Accuracy: 0.6818 | Test Accuracy: 0.6876\n",
            "Epoch  10 | Loss: 490.7258 | Train Accuracy: 0.6928 | Test Accuracy: 0.6972\n",
            "Epoch  11 | Loss: 481.2293 | Train Accuracy: 0.7008 | Test Accuracy: 0.7054\n",
            "Epoch  12 | Loss: 470.3326 | Train Accuracy: 0.7068 | Test Accuracy: 0.7124\n",
            "Epoch  13 | Loss: 457.8117 | Train Accuracy: 0.7128 | Test Accuracy: 0.7167\n",
            "Epoch  14 | Loss: 443.6788 | Train Accuracy: 0.7180 | Test Accuracy: 0.7221\n",
            "Epoch  15 | Loss: 427.8075 | Train Accuracy: 0.7238 | Test Accuracy: 0.7261\n",
            "Epoch  16 | Loss: 410.3297 | Train Accuracy: 0.7279 | Test Accuracy: 0.7317\n",
            "Epoch  17 | Loss: 391.4753 | Train Accuracy: 0.7326 | Test Accuracy: 0.7377\n",
            "Epoch  18 | Loss: 371.6511 | Train Accuracy: 0.7387 | Test Accuracy: 0.7437\n",
            "Epoch  19 | Loss: 351.3875 | Train Accuracy: 0.7460 | Test Accuracy: 0.7498\n",
            "Epoch  20 | Loss: 331.0585 | Train Accuracy: 0.7542 | Test Accuracy: 0.7599\n",
            "Epoch  21 | Loss: 311.4148 | Train Accuracy: 0.7636 | Test Accuracy: 0.7701\n",
            "Epoch  22 | Loss: 292.7501 | Train Accuracy: 0.7738 | Test Accuracy: 0.7776\n",
            "Epoch  23 | Loss: 275.4758 | Train Accuracy: 0.7839 | Test Accuracy: 0.7859\n",
            "Epoch  24 | Loss: 259.6146 | Train Accuracy: 0.7916 | Test Accuracy: 0.7935\n",
            "Epoch  25 | Loss: 245.3261 | Train Accuracy: 0.7976 | Test Accuracy: 0.8005\n",
            "Epoch  26 | Loss: 232.4824 | Train Accuracy: 0.8038 | Test Accuracy: 0.8075\n",
            "Epoch  27 | Loss: 220.9405 | Train Accuracy: 0.8092 | Test Accuracy: 0.8125\n",
            "Epoch  28 | Loss: 210.5771 | Train Accuracy: 0.8147 | Test Accuracy: 0.8173\n",
            "Epoch  29 | Loss: 201.4398 | Train Accuracy: 0.8189 | Test Accuracy: 0.8215\n",
            "Epoch  30 | Loss: 193.0274 | Train Accuracy: 0.8227 | Test Accuracy: 0.8259\n",
            "Epoch  31 | Loss: 185.6445 | Train Accuracy: 0.8271 | Test Accuracy: 0.8308\n",
            "Epoch  32 | Loss: 178.7676 | Train Accuracy: 0.8306 | Test Accuracy: 0.8340\n",
            "Epoch  33 | Loss: 172.7454 | Train Accuracy: 0.8340 | Test Accuracy: 0.8377\n",
            "Epoch  34 | Loss: 167.1293 | Train Accuracy: 0.8372 | Test Accuracy: 0.8413\n",
            "Epoch  35 | Loss: 162.0870 | Train Accuracy: 0.8404 | Test Accuracy: 0.8450\n",
            "Epoch  36 | Loss: 157.3864 | Train Accuracy: 0.8432 | Test Accuracy: 0.8480\n",
            "Epoch  37 | Loss: 153.0812 | Train Accuracy: 0.8457 | Test Accuracy: 0.8501\n",
            "Epoch  38 | Loss: 149.1250 | Train Accuracy: 0.8491 | Test Accuracy: 0.8544\n",
            "Epoch  39 | Loss: 145.4911 | Train Accuracy: 0.8509 | Test Accuracy: 0.8549\n",
            "Epoch  40 | Loss: 142.0665 | Train Accuracy: 0.8533 | Test Accuracy: 0.8585\n",
            "Epoch  41 | Loss: 138.9615 | Train Accuracy: 0.8557 | Test Accuracy: 0.8612\n",
            "Epoch  42 | Loss: 136.0793 | Train Accuracy: 0.8581 | Test Accuracy: 0.8633\n",
            "Epoch  43 | Loss: 133.2985 | Train Accuracy: 0.8598 | Test Accuracy: 0.8651\n",
            "Epoch  44 | Loss: 130.8204 | Train Accuracy: 0.8613 | Test Accuracy: 0.8673\n",
            "Epoch  45 | Loss: 128.4406 | Train Accuracy: 0.8633 | Test Accuracy: 0.8691\n",
            "Epoch  46 | Loss: 126.1425 | Train Accuracy: 0.8651 | Test Accuracy: 0.8706\n",
            "Epoch  47 | Loss: 124.0427 | Train Accuracy: 0.8665 | Test Accuracy: 0.8728\n",
            "Epoch  48 | Loss: 122.0735 | Train Accuracy: 0.8681 | Test Accuracy: 0.8734\n",
            "Epoch  49 | Loss: 120.1362 | Train Accuracy: 0.8700 | Test Accuracy: 0.8759\n",
            "Epoch  50 | Loss: 118.4563 | Train Accuracy: 0.8713 | Test Accuracy: 0.8773\n",
            "Epoch  51 | Loss: 116.7631 | Train Accuracy: 0.8727 | Test Accuracy: 0.8786\n",
            "Epoch  52 | Loss: 115.2277 | Train Accuracy: 0.8735 | Test Accuracy: 0.8800\n",
            "Epoch  53 | Loss: 113.7191 | Train Accuracy: 0.8750 | Test Accuracy: 0.8815\n",
            "Epoch  54 | Loss: 112.3462 | Train Accuracy: 0.8762 | Test Accuracy: 0.8827\n",
            "Epoch  55 | Loss: 110.9236 | Train Accuracy: 0.8773 | Test Accuracy: 0.8842\n",
            "Epoch  56 | Loss: 109.5570 | Train Accuracy: 0.8781 | Test Accuracy: 0.8854\n",
            "Epoch  57 | Loss: 108.4338 | Train Accuracy: 0.8793 | Test Accuracy: 0.8865\n",
            "Epoch  58 | Loss: 107.1442 | Train Accuracy: 0.8801 | Test Accuracy: 0.8872\n",
            "Epoch  59 | Loss: 106.0792 | Train Accuracy: 0.8809 | Test Accuracy: 0.8878\n",
            "Epoch  60 | Loss: 105.0295 | Train Accuracy: 0.8821 | Test Accuracy: 0.8883\n",
            "Epoch  61 | Loss: 103.9424 | Train Accuracy: 0.8827 | Test Accuracy: 0.8897\n",
            "Epoch  62 | Loss: 102.9730 | Train Accuracy: 0.8835 | Test Accuracy: 0.8900\n",
            "Epoch  63 | Loss: 102.0963 | Train Accuracy: 0.8844 | Test Accuracy: 0.8906\n",
            "Epoch  64 | Loss: 101.1238 | Train Accuracy: 0.8851 | Test Accuracy: 0.8913\n",
            "Epoch  65 | Loss: 100.3160 | Train Accuracy: 0.8858 | Test Accuracy: 0.8924\n",
            "Epoch  66 | Loss: 99.4650 | Train Accuracy: 0.8866 | Test Accuracy: 0.8924\n",
            "Epoch  67 | Loss: 98.7063 | Train Accuracy: 0.8874 | Test Accuracy: 0.8933\n",
            "Epoch  68 | Loss: 97.9264 | Train Accuracy: 0.8879 | Test Accuracy: 0.8940\n",
            "Epoch  69 | Loss: 97.1635 | Train Accuracy: 0.8887 | Test Accuracy: 0.8942\n",
            "Epoch  70 | Loss: 96.4744 | Train Accuracy: 0.8890 | Test Accuracy: 0.8955\n",
            "Epoch  71 | Loss: 95.8265 | Train Accuracy: 0.8895 | Test Accuracy: 0.8959\n",
            "Epoch  72 | Loss: 95.0614 | Train Accuracy: 0.8900 | Test Accuracy: 0.8954\n",
            "Epoch  73 | Loss: 94.4123 | Train Accuracy: 0.8905 | Test Accuracy: 0.8962\n",
            "Epoch  74 | Loss: 93.7997 | Train Accuracy: 0.8909 | Test Accuracy: 0.8965\n",
            "Epoch  75 | Loss: 93.1810 | Train Accuracy: 0.8915 | Test Accuracy: 0.8969\n",
            "Epoch  76 | Loss: 92.5887 | Train Accuracy: 0.8917 | Test Accuracy: 0.8969\n",
            "Epoch  77 | Loss: 92.1115 | Train Accuracy: 0.8923 | Test Accuracy: 0.8977\n",
            "Epoch  78 | Loss: 91.6054 | Train Accuracy: 0.8927 | Test Accuracy: 0.8985\n",
            "Epoch  79 | Loss: 90.9809 | Train Accuracy: 0.8933 | Test Accuracy: 0.8993\n",
            "Epoch  80 | Loss: 90.5261 | Train Accuracy: 0.8938 | Test Accuracy: 0.8991\n",
            "Epoch  81 | Loss: 89.8912 | Train Accuracy: 0.8941 | Test Accuracy: 0.9003\n",
            "Epoch  82 | Loss: 89.4634 | Train Accuracy: 0.8945 | Test Accuracy: 0.9010\n",
            "Epoch  83 | Loss: 88.9747 | Train Accuracy: 0.8949 | Test Accuracy: 0.9008\n",
            "Epoch  84 | Loss: 88.4355 | Train Accuracy: 0.8955 | Test Accuracy: 0.9016\n",
            "Epoch  85 | Loss: 88.0435 | Train Accuracy: 0.8963 | Test Accuracy: 0.9016\n",
            "Epoch  86 | Loss: 87.6143 | Train Accuracy: 0.8965 | Test Accuracy: 0.9018\n",
            "Epoch  87 | Loss: 87.2345 | Train Accuracy: 0.8971 | Test Accuracy: 0.9018\n",
            "Epoch  88 | Loss: 86.7902 | Train Accuracy: 0.8975 | Test Accuracy: 0.9020\n",
            "Epoch  89 | Loss: 86.3906 | Train Accuracy: 0.8979 | Test Accuracy: 0.9019\n",
            "Epoch  90 | Loss: 85.9560 | Train Accuracy: 0.8983 | Test Accuracy: 0.9027\n",
            "Epoch  91 | Loss: 85.6608 | Train Accuracy: 0.8984 | Test Accuracy: 0.9027\n",
            "Epoch  92 | Loss: 85.2471 | Train Accuracy: 0.8994 | Test Accuracy: 0.9028\n",
            "Epoch  93 | Loss: 84.8566 | Train Accuracy: 0.8993 | Test Accuracy: 0.9031\n",
            "Epoch  94 | Loss: 84.4780 | Train Accuracy: 0.8998 | Test Accuracy: 0.9037\n",
            "Epoch  95 | Loss: 84.1299 | Train Accuracy: 0.8998 | Test Accuracy: 0.9033\n",
            "Epoch  96 | Loss: 83.7763 | Train Accuracy: 0.9005 | Test Accuracy: 0.9042\n",
            "Epoch  97 | Loss: 83.4675 | Train Accuracy: 0.9008 | Test Accuracy: 0.9050\n",
            "Epoch  98 | Loss: 83.1285 | Train Accuracy: 0.9012 | Test Accuracy: 0.9051\n",
            "Epoch  99 | Loss: 82.7481 | Train Accuracy: 0.9013 | Test Accuracy: 0.9051\n",
            "Epoch 100 | Loss: 82.5651 | Train Accuracy: 0.9018 | Test Accuracy: 0.9052\n"
          ]
        }
      ]
    },
    {
      "cell_type": "markdown",
      "source": [
        "## [MY CODE] 정확도 Plot 출력"
      ],
      "metadata": {
        "id": "YRDcptrqniX7"
      }
    },
    {
      "cell_type": "code",
      "source": [
        "\n",
        "def plot_acc(train_accuracies, test_accuracies, label1='train', label2='test'):\n",
        "  x = np.arange(len(train_accuracies))\n",
        "\n",
        "  plt.plot(x, train_accuracies, label=label1)\n",
        "  plt.plot(x, test_accuracies, label=label2)\n",
        "  plt.title('Train vs Test Accuracy')\n",
        "  plt.xlabel('Epoch')\n",
        "  plt.ylabel('Accuracy')\n",
        "  plt.legend()\n",
        "  plt.show()\n",
        "\n",
        "plot_acc(train_accuracies, test_accuracies)"
      ],
      "metadata": {
        "id": "Zct0ssSKwjt1",
        "colab": {
          "base_uri": "https://localhost:8080/",
          "height": 472
        },
        "outputId": "2fcd881d-7756-49df-944e-e2dc4e324fd4",
        "collapsed": true
      },
      "execution_count": 21,
      "outputs": [
        {
          "output_type": "display_data",
          "data": {
            "text/plain": [
              "<Figure size 640x480 with 1 Axes>"
            ],
            "image/png": "[encoded data removed]"
          },
          "metadata": {}
        }
      ]
    }
  ]
}